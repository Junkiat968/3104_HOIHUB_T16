{
  "nbformat": 4,
  "nbformat_minor": 0,
  "metadata": {
    "colab": {
      "provenance": [],
      "toc_visible": true
    },
    "kernelspec": {
      "name": "python3",
      "display_name": "Python 3"
    },
    "language_info": {
      "name": "python"
    }
  },
  "cells": [
    {
      "cell_type": "code",
      "execution_count": null,
      "metadata": {
        "id": "bP_ZvvCNNurU"
      },
      "outputs": [],
      "source": []
    },
    {
      "cell_type": "markdown",
      "source": [
        "# T16 HOI HUB\n"
      ],
      "metadata": {
        "id": "IaTJeeRnN7b1"
      }
    },
    {
      "cell_type": "markdown",
      "source": [
        "## Data Exploration\n",
        "\n",
        "-load and display video data from the Toyota Smarthome (TSU) project"
      ],
      "metadata": {
        "id": "xaTfkzLqOAM1"
      }
    },
    {
      "cell_type": "markdown",
      "source": [
        "## Inference\n",
        "\n",
        "perform inference using a pretrained HOI ML model based on the TSU project."
      ],
      "metadata": {
        "id": "itSj3cjhOF1d"
      }
    },
    {
      "cell_type": "code",
      "source": [],
      "metadata": {
        "id": "u7ElLWQzOOZ2"
      },
      "execution_count": null,
      "outputs": []
    },
    {
      "cell_type": "markdown",
      "source": [
        "## Training\n",
        "train a HOI ML model based on the TSU project.Choose a dataset subfolder, using appropriate UI elements, from the data folder to use for the training"
      ],
      "metadata": {
        "id": "Ad-b_FHPORM1"
      }
    },
    {
      "cell_type": "markdown",
      "source": [
        "## Testing\n",
        "\n",
        "train a HOI ML model based on the TSU project."
      ],
      "metadata": {
        "id": "pS4S8QwtOWdd"
      }
    },
    {
      "cell_type": "code",
      "source": [],
      "metadata": {
        "id": "WGZ-y89hOYw1"
      },
      "execution_count": null,
      "outputs": []
    }
  ]
}